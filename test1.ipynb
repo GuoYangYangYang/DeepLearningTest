{
 "cells": [
  {
   "cell_type": "code",
   "execution_count": 1,
   "metadata": {},
   "outputs": [
    {
     "name": "stdout",
     "output_type": "stream",
     "text": [
      "14\n"
     ]
    }
   ],
   "source": [
    "import tensorflow as tf\n",
    "\n",
    "a = tf.constant(4, name = \"input_a\")\n",
    "b = tf.constant(2, name = \"input_b\")\n",
    "c = tf.multiply(a, b, name = \"mul_c\")\n",
    "d = tf.add(a, b, name = \"add_d\")\n",
    "e = tf.add(c, d, name = \"add_e\")\n",
    "\n",
    "sess = tf.Session()\n",
    "print(sess.run(e))\n",
    "sess.close()"
   ]
  },
  {
   "cell_type": "code",
   "execution_count": null,
   "metadata": {},
   "outputs": [],
   "source": []
  }
 ],
 "metadata": {
  "kernelspec": {
   "display_name": "Python 3",
   "language": "python",
   "name": "python3"
  },
  "language_info": {
   "codemirror_mode": {
    "name": "ipython",
    "version": 3
   },
   "file_extension": ".py",
   "mimetype": "text/x-python",
   "name": "python",
   "nbconvert_exporter": "python",
   "pygments_lexer": "ipython3",
   "version": "3.6.6"
  }
 },
 "nbformat": 4,
 "nbformat_minor": 2
}
