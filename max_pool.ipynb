{
 "cells": [
  {
   "cell_type": "code",
   "execution_count": 3,
   "metadata": {},
   "outputs": [
    {
     "name": "stdout",
     "output_type": "stream",
     "text": [
      "origin_data:\n",
      "[[[[1.]\n",
      "   [2.]\n",
      "   [1.]\n",
      "   [6.]]\n",
      "\n",
      "  [[7.]\n",
      "   [4.]\n",
      "   [5.]\n",
      "   [8.]]\n",
      "\n",
      "  [[4.]\n",
      "   [2.]\n",
      "   [2.]\n",
      "   [0.]]\n",
      "\n",
      "  [[1.]\n",
      "   [5.]\n",
      "   [1.]\n",
      "   [4.]]]]\n",
      "pool_result:\n",
      "[[[[7.]\n",
      "   [8.]]\n",
      "\n",
      "  [[5.]\n",
      "   [4.]]]]\n"
     ]
    }
   ],
   "source": [
    "import tensorflow as tf\n",
    "\n",
    "layer_input = tf.constant([\n",
    "    [\n",
    "        [[1.0], [2.0], [1.0], [6.0]],\n",
    "        [[7.0], [4.0], [5.0], [8.0]],\n",
    "        [[4.0], [2.0], [2.0], [0.0]],\n",
    "        [[1.0], [5.0], [1.0], [4.0]]\n",
    "    ]\n",
    "])\n",
    "\n",
    "batch_size = 1\n",
    "input_height = 2\n",
    "input_width = 2\n",
    "input_channels = 1\n",
    "ksize = [batch_size, input_height, input_width, input_channels]\n",
    "pooling = tf.nn.max_pool(layer_input, ksize, [1, 2, 2, 1], padding = 'VALID')\n",
    "\n",
    "with tf.Session() as sess:\n",
    "    print(\"origin_data:\")\n",
    "    image = sess.run(layer_input)\n",
    "    print(image)\n",
    "    print(\"pool_result:\")\n",
    "    result = sess.run(pooling)\n",
    "    print(result)"
   ]
  },
  {
   "cell_type": "code",
   "execution_count": null,
   "metadata": {},
   "outputs": [],
   "source": []
  }
 ],
 "metadata": {
  "kernelspec": {
   "display_name": "Python 3",
   "language": "python",
   "name": "python3"
  },
  "language_info": {
   "codemirror_mode": {
    "name": "ipython",
    "version": 3
   },
   "file_extension": ".py",
   "mimetype": "text/x-python",
   "name": "python",
   "nbconvert_exporter": "python",
   "pygments_lexer": "ipython3",
   "version": "3.6.6"
  }
 },
 "nbformat": 4,
 "nbformat_minor": 2
}
