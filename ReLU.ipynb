{
 "cells": [
  {
   "cell_type": "code",
   "execution_count": 2,
   "metadata": {},
   "outputs": [
    {
     "name": "stdout",
     "output_type": "stream",
     "text": [
      "feature :[-3 -2 -1  0  1  2  3] \n",
      "relu(feature): [0 0 0 0 1 2 3]\n"
     ]
    }
   ],
   "source": [
    "import tensorflow as tf \n",
    "features = tf.range(-3 ,4)\n",
    "\n",
    "with tf.Session() as sess:\n",
    "    feature = sess.run(features)\n",
    "    result_relu_feature = sess.run(tf.nn.relu(features))\n",
    "    print('feature :{} \\nrelu(feature): {}'.format(feature, result_relu_feature))"
   ]
  },
  {
   "cell_type": "code",
   "execution_count": null,
   "metadata": {},
   "outputs": [],
   "source": []
  }
 ],
 "metadata": {
  "kernelspec": {
   "display_name": "Python 3",
   "language": "python",
   "name": "python3"
  },
  "language_info": {
   "codemirror_mode": {
    "name": "ipython",
    "version": 3
   },
   "file_extension": ".py",
   "mimetype": "text/x-python",
   "name": "python",
   "nbconvert_exporter": "python",
   "pygments_lexer": "ipython3",
   "version": "3.6.6"
  }
 },
 "nbformat": 4,
 "nbformat_minor": 2
}
