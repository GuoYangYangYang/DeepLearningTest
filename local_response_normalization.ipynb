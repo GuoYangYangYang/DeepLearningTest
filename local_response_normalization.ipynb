{
 "cells": [
  {
   "cell_type": "code",
   "execution_count": 8,
   "metadata": {},
   "outputs": [],
   "source": [
    "import tensorflow as tf\n",
    "import numpy as np\n",
    "input_data = np.array([i for i in range(0, 32)])\n",
    "reshape_data = tf.reshape(input_data, [2, 2, 2, 4])\n",
    "reshape_data2 = tf.to_float(reshape_data)"
   ]
  },
  {
   "cell_type": "code",
   "execution_count": 9,
   "metadata": {},
   "outputs": [],
   "source": [
    "lrn = tf.nn.local_response_normalization(\n",
    "input = reshape_data2, depth_radius = 2, bias = 0, alpha = 1, beta = 1)"
   ]
  },
  {
   "cell_type": "code",
   "execution_count": 11,
   "metadata": {},
   "outputs": [
    {
     "name": "stdout",
     "output_type": "stream",
     "text": [
      "[[[[ 0.  1.  2.  3.]\n",
      "   [ 4.  5.  6.  7.]]\n",
      "\n",
      "  [[ 8.  9. 10. 11.]\n",
      "   [12. 13. 14. 15.]]]\n",
      "\n",
      "\n",
      " [[[16. 17. 18. 19.]\n",
      "   [20. 21. 22. 23.]]\n",
      "\n",
      "  [[24. 25. 26. 27.]\n",
      "   [28. 29. 30. 31.]]]]\n",
      "After LRN: \n",
      "[[[[0.         0.07142857 0.14285715 0.21428573]\n",
      "   [0.05194805 0.03968254 0.04761905 0.06363636]]\n",
      "\n",
      "  [[0.03265306 0.02459016 0.0273224  0.03642384]\n",
      "   [0.02357564 0.01771117 0.01907357 0.02542373]]]\n",
      "\n",
      "\n",
      " [[[0.01841197 0.01382114 0.01463415 0.01950719]\n",
      "   [0.01509434 0.01132686 0.01186623 0.01581843]]\n",
      "\n",
      "  [[0.01278636 0.00959325 0.00997698 0.01330049]\n",
      "   [0.01108911 0.00831899 0.00860585 0.01147298]]]]\n"
     ]
    }
   ],
   "source": [
    "with tf.Session() as sess:\n",
    "    print(reshape_data2.eval())\n",
    "    print('After LRN: ')\n",
    "    print(lrn.eval())"
   ]
  },
  {
   "cell_type": "code",
   "execution_count": null,
   "metadata": {},
   "outputs": [],
   "source": []
  }
 ],
 "metadata": {
  "kernelspec": {
   "display_name": "Python 3",
   "language": "python",
   "name": "python3"
  },
  "language_info": {
   "codemirror_mode": {
    "name": "ipython",
    "version": 3
   },
   "file_extension": ".py",
   "mimetype": "text/x-python",
   "name": "python",
   "nbconvert_exporter": "python",
   "pygments_lexer": "ipython3",
   "version": "3.6.6"
  }
 },
 "nbformat": 4,
 "nbformat_minor": 2
}
