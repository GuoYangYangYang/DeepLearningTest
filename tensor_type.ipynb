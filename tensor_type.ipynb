{
 "cells": [
  {
   "cell_type": "code",
   "execution_count": 4,
   "metadata": {},
   "outputs": [
    {
     "name": "stdout",
     "output_type": "stream",
     "text": [
      "20\n",
      "[b'Tensor' b'flow' b'is' b'great']\n",
      "[[ True False False]\n",
      " [False  True False]]\n"
     ]
    }
   ],
   "source": [
    "import tensorflow as tf\n",
    "import numpy as np\n",
    "\n",
    "n0 = np.array(20, dtype = np.int32)\n",
    "n1 = np.array([b\"Tensor\", b\"flow\", b\"is\", b\"great\"])\n",
    "n2 = np.array([[True, False, False],\n",
    "              [False, True, False]],\n",
    "             dtype = np.bool)\n",
    "tensor0D = tf.Variable(n0, name = \"t_0\")\n",
    "tensor1D = tf.Variable(n1, name = \"t_1\")\n",
    "tensor2D = tf.Variable(n2, name = \"t_2\")\n",
    "init_0p = tf.global_variables_initializer()\n",
    "\n",
    "with tf.Session() as sess:\n",
    "    sess.run(init_0p)\n",
    "    print(sess.run(tensor0D))\n",
    "    print(sess.run(tensor1D))\n",
    "    print(sess.run(tensor2D))"
   ]
  },
  {
   "cell_type": "code",
   "execution_count": null,
   "metadata": {},
   "outputs": [],
   "source": []
  }
 ],
 "metadata": {
  "kernelspec": {
   "display_name": "Python 3",
   "language": "python",
   "name": "python3"
  },
  "language_info": {
   "codemirror_mode": {
    "name": "ipython",
    "version": 3
   },
   "file_extension": ".py",
   "mimetype": "text/x-python",
   "name": "python",
   "nbconvert_exporter": "python",
   "pygments_lexer": "ipython3",
   "version": "3.6.6"
  }
 },
 "nbformat": 4,
 "nbformat_minor": 2
}
