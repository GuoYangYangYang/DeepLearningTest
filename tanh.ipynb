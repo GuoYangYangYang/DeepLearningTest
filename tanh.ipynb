{
 "cells": [
  {
   "cell_type": "code",
   "execution_count": 1,
   "metadata": {},
   "outputs": [
    {
     "name": "stdout",
     "output_type": "stream",
     "text": [
      "[array([-10.,  -9.,  -8.,  -7.,  -6.,  -5.,  -4.,  -3.,  -2.,  -1.,   0.,\n",
      "         1.,   2.,   3.,   4.,   5.,   6.,   7.,   8.,   9.],\n",
      "      dtype=float32), array([-1.        , -1.        , -0.99999976, -0.99999833, -0.99998784,\n",
      "       -0.99990916, -0.9993292 , -0.9950547 , -0.9640276 , -0.7615942 ,\n",
      "        0.        ,  0.7615942 ,  0.9640276 ,  0.9950547 ,  0.9993292 ,\n",
      "        0.99990916,  0.99998784,  0.99999833,  0.99999976,  1.        ],\n",
      "      dtype=float32)]\n"
     ]
    }
   ],
   "source": [
    "import tensorflow as tf\n",
    "features = tf.range(-10, 10)\n",
    "features2 = tf.to_float(features)\n",
    "\n",
    "with tf.Session() as sess:\n",
    "    print(sess.run([features2, tf.tanh(features2)]))"
   ]
  },
  {
   "cell_type": "code",
   "execution_count": null,
   "metadata": {},
   "outputs": [],
   "source": []
  }
 ],
 "metadata": {
  "kernelspec": {
   "display_name": "Python 3",
   "language": "python",
   "name": "python3"
  },
  "language_info": {
   "codemirror_mode": {
    "name": "ipython",
    "version": 3
   },
   "file_extension": ".py",
   "mimetype": "text/x-python",
   "name": "python",
   "nbconvert_exporter": "python",
   "pygments_lexer": "ipython3",
   "version": "3.6.6"
  }
 },
 "nbformat": 4,
 "nbformat_minor": 2
}
