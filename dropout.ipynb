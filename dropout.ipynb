{
 "cells": [
  {
   "cell_type": "code",
   "execution_count": 10,
   "metadata": {},
   "outputs": [
    {
     "name": "stdout",
     "output_type": "stream",
     "text": [
      "[4 4]\n",
      "[[ 1.  2.  3.  4.]\n",
      " [ 5.  6.  7.  8.]\n",
      " [ 9. 10. 11. 12.]\n",
      " [13. 14. 15. 16.]]\n",
      "--------------------------------------\n",
      "[[ 0.  4.  0.  8.]\n",
      " [ 0. 12. 14.  0.]\n",
      " [18.  0.  0.  0.]\n",
      " [ 0.  0.  0.  0.]]\n",
      "--------------------------------------\n",
      "[[ 2.  4.  6.  8.]\n",
      " [10. 12. 14. 16.]\n",
      " [ 0.  0.  0.  0.]\n",
      " [26. 28. 30. 32.]]\n",
      "--------------------------------------\n",
      "[[ 2.  4.  0.  0.]\n",
      " [10. 12.  0.  0.]\n",
      " [18. 20.  0.  0.]\n",
      " [26. 28.  0.  0.]]\n"
     ]
    }
   ],
   "source": [
    "import tensorflow as tf\n",
    "\n",
    "with tf.Session() as sess:\n",
    "    sess.run(tf.global_variables_initializer())\n",
    "    d = tf.constant([\n",
    "        [1., 2., 3., 4.],\n",
    "        [5., 6., 7., 8.],\n",
    "        [9., 10., 11., 12.],\n",
    "        [13., 14., 15., 16.]\n",
    "    ])\n",
    "    print(sess.run(tf.shape(d)))\n",
    "    print(sess.run(d))\n",
    "    print(\"--------------------------------------\")\n",
    "    dropout_d = tf.nn.dropout(d, 0.5)\n",
    "    result_dropout_d = sess.run(dropout_d)\n",
    "    print(result_dropout_d)\n",
    "    print(\"--------------------------------------\")\n",
    "    dropout_d41 = tf.nn.dropout(d, 0.5, noise_shape = [4, 1])\n",
    "    result_dropout_d41 = sess.run(dropout_d41)\n",
    "    print(result_dropout_d41)\n",
    "    print(\"--------------------------------------\")\n",
    "    dropout_d14 = tf.nn.dropout(d, 0.5, noise_shape = [1, 4])\n",
    "    result_dropout_d14 = sess.run(dropout_d14)\n",
    "    print(result_dropout_d14)"
   ]
  },
  {
   "cell_type": "code",
   "execution_count": null,
   "metadata": {},
   "outputs": [],
   "source": []
  }
 ],
 "metadata": {
  "kernelspec": {
   "display_name": "Python 3",
   "language": "python",
   "name": "python3"
  },
  "language_info": {
   "codemirror_mode": {
    "name": "ipython",
    "version": 3
   },
   "file_extension": ".py",
   "mimetype": "text/x-python",
   "name": "python",
   "nbconvert_exporter": "python",
   "pygments_lexer": "ipython3",
   "version": "3.6.6"
  }
 },
 "nbformat": 4,
 "nbformat_minor": 2
}
