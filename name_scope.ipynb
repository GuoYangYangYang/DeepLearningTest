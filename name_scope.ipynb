{
 "cells": [
  {
   "cell_type": "code",
   "execution_count": 7,
   "metadata": {},
   "outputs": [
    {
     "name": "stdout",
     "output_type": "stream",
     "text": [
      "hidden_6/alpha:0\n",
      "hidden_6/weights:0\n",
      "hidden_6/biases:0\n",
      "conv1_4/weights:0\n",
      "conv1_4/biases:0\n"
     ]
    }
   ],
   "source": [
    "import tensorflow as tf\n",
    "\n",
    "with tf.name_scope('hidden') as scope:\n",
    "    a = tf.constant(5, name='alpha')\n",
    "    print(a.name)\n",
    "    weights = tf.Variable(tf.random_uniform([1, 2], -1.0, 1.0), name='weights')\n",
    "    print(weights.name)\n",
    "    bias = tf.Variable(tf.zeros([1]), name='biases')\n",
    "    print(bias.name)\n",
    "    \n",
    "with tf.name_scope('conv1') as scope:\n",
    "    weights = tf.Variable([1.0, 2.0], name='weights')\n",
    "    print(weights.name)\n",
    "    bias = tf.Variable([0.3], name='biases')\n",
    "    print(bias.name)\n",
    "    \n",
    "sess = tf.Session()\n",
    "writer = tf.summary.FileWriter('./my_graph/2', sess.graph)"
   ]
  },
  {
   "cell_type": "code",
   "execution_count": null,
   "metadata": {},
   "outputs": [],
   "source": []
  }
 ],
 "metadata": {
  "kernelspec": {
   "display_name": "Python 3",
   "language": "python",
   "name": "python3"
  },
  "language_info": {
   "codemirror_mode": {
    "name": "ipython",
    "version": 3
   },
   "file_extension": ".py",
   "mimetype": "text/x-python",
   "name": "python",
   "nbconvert_exporter": "python",
   "pygments_lexer": "ipython3",
   "version": "3.6.6"
  }
 },
 "nbformat": 4,
 "nbformat_minor": 2
}
