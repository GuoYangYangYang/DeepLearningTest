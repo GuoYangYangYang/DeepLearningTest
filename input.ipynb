{
 "cells": [
  {
   "cell_type": "code",
   "execution_count": 1,
   "metadata": {},
   "outputs": [
    {
     "name": "stdout",
     "output_type": "stream",
     "text": [
      "(2, 2, 3, 3)\n"
     ]
    }
   ],
   "source": [
    "import tensorflow as tf\n",
    "input_batch = tf.constant([\n",
    "    [# first picture : 3x2\n",
    "        [[0, 255, 0], [0, 255, 1], [0, 255, 2]],\n",
    "        [[1, 255, 1], [1, 255, 1], [1, 255, 2]]\n",
    "    ],\n",
    "    [# second picture : 3x2\n",
    "        [[1, 255, 0], [1, 255, 0], [1, 255, 2]],\n",
    "        [[255, 0, 0], [255, 0, 0], [255, 0, 0]]\n",
    "    ]\n",
    "])\n",
    "\n",
    "print(input_batch.get_shape())"
   ]
  },
  {
   "cell_type": "code",
   "execution_count": null,
   "metadata": {},
   "outputs": [],
   "source": []
  }
 ],
 "metadata": {
  "kernelspec": {
   "display_name": "Python 3",
   "language": "python",
   "name": "python3"
  },
  "language_info": {
   "codemirror_mode": {
    "name": "ipython",
    "version": 3
   },
   "file_extension": ".py",
   "mimetype": "text/x-python",
   "name": "python",
   "nbconvert_exporter": "python",
   "pygments_lexer": "ipython3",
   "version": "3.6.6"
  }
 },
 "nbformat": 4,
 "nbformat_minor": 2
}
