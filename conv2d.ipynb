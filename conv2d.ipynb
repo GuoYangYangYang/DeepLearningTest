{
 "cells": [
  {
   "cell_type": "code",
   "execution_count": 1,
   "metadata": {},
   "outputs": [
    {
     "name": "stdout",
     "output_type": "stream",
     "text": [
      "input data: \n",
      "[[[[0. 1.]\n",
      "   [0. 1.]]\n",
      "\n",
      "  [[2. 1.]\n",
      "   [1. 0.]]]\n",
      "\n",
      "\n",
      " [[[3. 1.]\n",
      "   [1. 0.]]\n",
      "\n",
      "  [[4. 4.]\n",
      "   [5. 4.]]]]\n",
      "conv2d data: \n",
      "[[[[1. 1.]\n",
      "   [1. 1.]]\n",
      "\n",
      "  [[0. 0.]\n",
      "   [0. 0.]]]\n",
      "\n",
      "\n",
      " [[[0. 0.]\n",
      "   [0. 0.]]\n",
      "\n",
      "  [[0. 0.]\n",
      "   [0. 0.]]]]\n",
      "conv2d output: \n",
      "[[[[1. 1.]\n",
      "   [1. 1.]]\n",
      "\n",
      "  [[3. 3.]\n",
      "   [1. 1.]]]\n",
      "\n",
      "\n",
      " [[[4. 4.]\n",
      "   [1. 1.]]\n",
      "\n",
      "  [[8. 8.]\n",
      "   [9. 9.]]]]\n"
     ]
    }
   ],
   "source": [
    "import tensorflow as tf\n",
    "# input\n",
    "temp = tf.constant([0, 1, 0, 1, 2, 1, 1, 0, 3, 1, 1, 0, 4, 4, 5, 4], tf.float32)\n",
    "temp2 = tf.reshape(temp, [2, 2, 2, 2])\n",
    "# conv2d\n",
    "filter = tf.constant([1, 1, 1, 1, 0, 0, 0, 0, 0, 0, 0, 0, 0, 0, 0, 0], tf.float32)\n",
    "filter2 = tf.reshape(filter, [2, 2, 2, 2])\n",
    "#\n",
    "convolution = tf.nn.conv2d(temp2, filter2, [1, 1, 1, 1], padding=\"SAME\")\n",
    "#\n",
    "session = tf.Session()\n",
    "tf.global_variables_initializer()\n",
    "# \n",
    "print(\"input data: \")\n",
    "print(session.run(temp2))\n",
    "print(\"conv2d data: \")\n",
    "print(session.run(filter2))\n",
    "print(\"conv2d output: \")\n",
    "print(session.run(convolution))"
   ]
  },
  {
   "cell_type": "code",
   "execution_count": 2,
   "metadata": {},
   "outputs": [
    {
     "name": "stdout",
     "output_type": "stream",
     "text": [
      "conv2d output2: \n",
      "[[[[1. 1.]]]\n",
      "\n",
      "\n",
      " [[[4. 4.]]]]\n"
     ]
    }
   ],
   "source": [
    "convolution = tf.nn.conv2d(temp2, filter2, [1, 1, 1, 1], padding=\"VALID\")\n",
    "\n",
    "print(\"conv2d output2: \")\n",
    "print(session.run(convolution))"
   ]
  },
  {
   "cell_type": "code",
   "execution_count": null,
   "metadata": {},
   "outputs": [],
   "source": []
  }
 ],
 "metadata": {
  "kernelspec": {
   "display_name": "Python 3",
   "language": "python",
   "name": "python3"
  },
  "language_info": {
   "codemirror_mode": {
    "name": "ipython",
    "version": 3
   },
   "file_extension": ".py",
   "mimetype": "text/x-python",
   "name": "python",
   "nbconvert_exporter": "python",
   "pygments_lexer": "ipython3",
   "version": "3.6.6"
  }
 },
 "nbformat": 4,
 "nbformat_minor": 2
}
